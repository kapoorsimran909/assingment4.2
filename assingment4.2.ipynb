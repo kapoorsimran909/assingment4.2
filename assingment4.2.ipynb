{
 "cells": [
  {
   "cell_type": "code",
   "execution_count": null,
   "id": "464b2c8b-e67a-4d7e-abcc-84ff196650db",
   "metadata": {},
   "outputs": [],
   "source": [
    "ques no 1.\n",
    "class in object oriented programming is a blueprint or template for creating objects.\n",
    "it defines the data and behaiver that the objects created from that class will have,\n",
    "by combining abstraction of data and code  a class provide a way to group related data\n",
    "and fuctionality into a single logical unit.\n",
    "for example\n",
    "class pwskills :\n",
    "    def welcome_msg(self):\n",
    "        print(\"welcome to pwskills\")"
   ]
  },
  {
   "cell_type": "code",
   "execution_count": null,
   "id": "b643b606-c75f-454d-8cfd-7d8736d2eae7",
   "metadata": {},
   "outputs": [],
   "source": [
    "ques no 2.\n",
    "the four pillars of oops is:\n",
    "1)polymorphism\n",
    "2)encapulation\n",
    "3)inheritance\n",
    "4)abstraction"
   ]
  },
  {
   "cell_type": "code",
   "execution_count": null,
   "id": "80cda808-e866-4226-9bc7-65608c4e75d9",
   "metadata": {},
   "outputs": [],
   "source": [
    "ques no 3.\n",
    "init fuction is used to assigning values to the data members of the class.\n",
    "for example\n",
    "class pwskills1 :\n",
    "    def __init__(self ,phone_number ,email_id ,student_id ):\n",
    "        self.phone_number = phone_number\n",
    "        self.email_id = email_id\n",
    "        self.student_id = student_id\n",
    "        \n",
    "    def return_student_deatails(self):\n",
    "        return self.student_id , self.phone_number , self.email_id"
   ]
  },
  {
   "cell_type": "code",
   "execution_count": null,
   "id": "c1d299ee-cbc4-4208-8e7f-e87c684cfa34",
   "metadata": {},
   "outputs": [],
   "source": [
    "ques no 4.\n",
    "self is a instance of the class. by using self we can access the attributes and methods \n",
    "of the class in python. it binds the attributes with the given arguments.ques no 5.\n"
   ]
  },
  {
   "cell_type": "code",
   "execution_count": null,
   "id": "a15d0269-200b-40e5-90e8-89fee0ff7061",
   "metadata": {},
   "outputs": [],
   "source": [
    "ques no 5.\n",
    "inheritance is define when a class derives from another class.\n",
    "the child class will inherit all the public and protected properties\n",
    "and methods from the parent class.\n",
    "for example"
   ]
  },
  {
   "cell_type": "code",
   "execution_count": null,
   "id": "e1825783-7c1d-4655-93c0-c7f03548093d",
   "metadata": {},
   "outputs": [],
   "source": [
    "class test :\n",
    "    \n",
    "    def test_meth(self) :\n",
    "        return \"this is my first class\""
   ]
  },
  {
   "cell_type": "code",
   "execution_count": null,
   "id": "9fbabe2d-864a-437f-9356-daf9130728d6",
   "metadata": {},
   "outputs": [],
   "source": [
    "class child_test(test) :\n",
    "    pass"
   ]
  },
  {
   "cell_type": "code",
   "execution_count": null,
   "id": "0b5d8c57-3b85-4c6a-a23e-ac6987f7123d",
   "metadata": {},
   "outputs": [],
   "source": [
    "child_test_obj = child_test()"
   ]
  },
  {
   "cell_type": "code",
   "execution_count": null,
   "id": "996678c7-cf62-47e5-9689-e484d7ae1400",
   "metadata": {},
   "outputs": [],
   "source": [
    "child_test_obj.test_meth()"
   ]
  },
  {
   "cell_type": "code",
   "execution_count": null,
   "id": "529415b7-33bf-4717-afd6-9e5835a35f99",
   "metadata": {},
   "outputs": [],
   "source": [
    "class class1:\n",
    "    \n",
    "    def test_class1(self) :\n",
    "        return \"this is a class1\""
   ]
  },
  {
   "cell_type": "code",
   "execution_count": null,
   "id": "d6ab39fb-2f5c-4840-9836-b086a00252fe",
   "metadata": {},
   "outputs": [],
   "source": [
    "class class2:\n",
    "    \n",
    "    def test_class2(self) :\n",
    "        return \"this is a class2\""
   ]
  },
  {
   "cell_type": "code",
   "execution_count": null,
   "id": "5056173b-d30c-4faf-9766-43b0964c9a49",
   "metadata": {},
   "outputs": [],
   "source": [
    "class class3 (class1 , class2) :\n",
    "    pass"
   ]
  },
  {
   "cell_type": "code",
   "execution_count": null,
   "id": "28bd1caa-4f98-4cbb-977a-35ca220dc129",
   "metadata": {},
   "outputs": [],
   "source": [
    "obj_class3 = class3()"
   ]
  },
  {
   "cell_type": "code",
   "execution_count": null,
   "id": "15340714-776c-487c-a8c8-6134d86af0f6",
   "metadata": {},
   "outputs": [],
   "source": [
    "obj_class3.test_class1()"
   ]
  },
  {
   "cell_type": "code",
   "execution_count": null,
   "id": "6673841a-b094-4bb2-ae6f-ccc9f9fcb820",
   "metadata": {},
   "outputs": [],
   "source": []
  }
 ],
 "metadata": {
  "kernelspec": {
   "display_name": "Python 3 (ipykernel)",
   "language": "python",
   "name": "python3"
  },
  "language_info": {
   "codemirror_mode": {
    "name": "ipython",
    "version": 3
   },
   "file_extension": ".py",
   "mimetype": "text/x-python",
   "name": "python",
   "nbconvert_exporter": "python",
   "pygments_lexer": "ipython3",
   "version": "3.10.8"
  }
 },
 "nbformat": 4,
 "nbformat_minor": 5
}
